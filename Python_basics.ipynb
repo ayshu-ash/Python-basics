{
  "nbformat": 4,
  "nbformat_minor": 0,
  "metadata": {
    "colab": {
      "provenance": []
    },
    "kernelspec": {
      "name": "python3",
      "display_name": "Python 3"
    },
    "language_info": {
      "name": "python"
    }
  },
  "cells": [
    {
      "cell_type": "code",
      "execution_count": null,
      "metadata": {
        "id": "8ygMZz0RaJw0"
      },
      "outputs": [],
      "source": []
    },
    {
      "cell_type": "markdown",
      "source": [
        "#Python Basics Questions"
      ],
      "metadata": {
        "id": "YoYjMctRalum"
      }
    },
    {
      "cell_type": "markdown",
      "source": [
        "1. What is Python, and why is it popular?\n",
        "  - Python is a high level, interpreted language that is simple and easy. It was developed by Guido Van Rossum. It is an ideal language for both beginners and experienced programmers.\n",
        "\n",
        "     Reasons why python is popular:\n",
        "       * It is simple because it contains statements that appears like english sentences.\n",
        "       * It is easy to learn as it uses simple structure.\n",
        "       * Python is free to use and its source code can be modified and shared.\n",
        "       * Python programs give the same output on any computer.\n",
        "       * Python also has huge standard library that help us do works easily.\n",
        "    \n",
        "-------------\n",
        "\n",
        "2. What is an interpreter in python?\n",
        "  - An interpreter in python is a program that reads and executes the code line by line. By doing this it makes the development and debugging faster as compared to compiled languages.\n",
        "\n",
        "    Example:\n",
        "\n",
        "     print(\"Hello\")\n",
        "\n",
        "     print(\"world\")\n",
        "\n",
        "   Here the interpreter will run print(\"Hello\") first and in other line print(\"World\") like one line at a time.\n",
        "\n",
        "---\n",
        "\n",
        "3. What are pre-defined keywords in python?\n",
        "  - Pre-defined keywords in python are special reserved words that has special meaning. These keywords cannot be used as variable names.\n",
        "\n",
        "    Example: if, else, while, for, def, True, False etc..\n",
        "\n",
        "---\n",
        "\n",
        "4. Can Keywords be used as variable names?\n",
        "  - No, keywords cannot be used as variable names in python. Because keywords in python has special meanings and using them as variable names can cause a syntax error.\n",
        "\n",
        "    Example:\n",
        "\n",
        "        for = 10\n",
        "    \n",
        "    This will give an error as 'if' is a keyword.\n",
        "\n",
        "---\n",
        "\n",
        "5. what is mutability in python.\n",
        "  - Mutability in python means whether the value of an object can be changed after it is being created. If it can be changed then it is known as mutable. It it cannot be changed then it is known as immutable.\n",
        "\n",
        "    Example:\n",
        "\n",
        "    Mutable: List, dictionary\n",
        "\n",
        "    Immutable: String,tuple\n",
        "\n",
        "----\n",
        "\n",
        "6. Why are lists mutable, but tuples are immutable?\n",
        "  - List are designed in such a way that it is used to store data that can change, so they are mutable, meaning that we can add, remove or change elements after its created.\n",
        "\n",
        "    Tuples are desined in such a way that it is used to staore that data that cannot be changed(it is fixed), so they are immutable, meaning the elements cannot be changed after its created.\n",
        "\n",
        "    Example:\n",
        "\n",
        "    my_list = [1,2,3,]\n",
        "\n",
        "    my_list[0] = 10\n",
        "\n",
        "    #It can be changed.\n",
        "\n",
        "    my_tuple = (1,2,3)\n",
        "\n",
        "    My_tuple[0] = 10\n",
        "\n",
        "    #It cannot be changed.\n",
        "\n",
        "---\n",
        "\n",
        "7. What is the difference between \"==\" and \"is\" operator in python?\n",
        "  - The \"==\" operator in python is used to compare the values of two objects. It returns True if all the values of both objects are the same, even if they are located at different memory locations.\n",
        "\n",
        "    The \"is\" operator in python is used to check whether two variables refers to same object in memory. It returns True if both variables point to same memory location, not just equal values.\n",
        "\n",
        "---\n",
        "\n",
        "8. What are logical operators in python?\n",
        "  - Logical operators in python are used to combine the logical conditions of statements. They operate on boolean values and produce boolean results (True or False).\n",
        "\n",
        "    There are three logical operators in python. They are:\n",
        "\n",
        "    * and - Returns True if both conditions are true.\n",
        "    * or - Returns True if atleast one condition is true.\n",
        "    * not - Returns the opposite value. If condition is True it will return False and if condition is False it will return True.\n",
        "\n",
        "---\n",
        "\n",
        "9. what is type casting in python?\n",
        "  - Type casting in python means converting one data type to another data type. It allows you to change like converting a string to an integer, or an integer to a float etc.\n",
        "\n",
        "    Some of the type casting in python are:\n",
        "\n",
        "    * int() - to convert to integer.\n",
        "    * float() - to convert to float.\n",
        "    * str() - to convert to string.\n",
        "    * bool() - to convert to boolean.\n",
        "\n",
        "    Example:\n",
        "\n",
        "    a = \"10\"\n",
        "\n",
        "    b = int(a) #convert to integer\n",
        "\n",
        "---\n",
        "\n",
        "10. What is the difference between implicit and explicit type casting?\n",
        "  - Implicit type casting in python means it automatically converts one data type to another data type, without the programmer needing to write any code.\n",
        "\n",
        "     Example:\n",
        "\n",
        "     a = \"10\"\n",
        "\n",
        "     b = 5\n",
        "\n",
        "     c = a + b #automatically converts a to integer\n",
        "    \n",
        "     print(c) #output: 15\n",
        "\n",
        "     Explicit type casting in python means the programmer needs to converts the data type using in-built functions like int(), str(), float() etc..\n",
        "\n",
        "     example:\n",
        "     \n",
        "     a = \"10\"\n",
        "\n",
        "     b = int(a) #converts a to integer using int()\n",
        "\n",
        "     print(b+5) #output: 15\n",
        "\n",
        "---\n",
        "    \n",
        "11. What is the purpose of conditional statements in python?\n",
        "  - The purpose of conditional statements in python is used to make decision in a program based on some conditions.\n",
        "\n",
        "    The conditional statements in python are:\n",
        "  \n",
        "    * if\n",
        "    * if else\n",
        "    * if elif else\n",
        "    * nested if else\n",
        "\n",
        "---\n",
        "    \n",
        "12. How does the elif statement work?\n",
        "  - The elif (short for else if) statement is used to check multiple conditions in a python program. If the first condition is True, its corresponding block of code will be executed. If not the next condition is checked. If none of the condition is true, the else block will run.\n",
        "\n",
        "    Example:\n",
        "\n",
        "    a = 0\n",
        "\n",
        "    if a > 0:\n",
        "\n",
        "      print(\"Number is positive\")\n",
        "    \n",
        "    elif a < 0:\n",
        "\n",
        "      print(\"Number is negative\")\n",
        "\n",
        "    else:\n",
        "\n",
        "      print(\"Number is zero\")\n",
        "\n",
        "    Here, the output will be Number is Zero.\n",
        "\n",
        "---\n",
        "    \n",
        "\n",
        "13. What is the difference between for and while loops?\n",
        "  - The for is used to iterate over the elements over a sequence. It is commonly used when you know in advance how many times you want to repeat a block of code.\n",
        "\n",
        "    Example:\n",
        "\n",
        "    for i in range(5):\n",
        "      \n",
        "      print(i)\n",
        "   \n",
        "    The while loop is used to execute a block of code as long as the specified condition is true. It is used when you dont know how many times to repeat\n",
        "\n",
        "    Example:\n",
        "\n",
        "    i = 0\n",
        "\n",
        "    while i <= 5:\n",
        "\n",
        "    print(i)\n",
        "\n",
        "    i += 1\n",
        "\n",
        "---\n",
        "\n",
        "14. Describe a scenario where a while loop is more suitable than a for loop.\n",
        "  - A while is more usefull when you dont know in advance how many times to run, and you want to repeat a task until a condition becomes false.\n",
        "\n",
        "    Example scenario:\n",
        "\n",
        "    name = input(\"Enter the name: \")\n",
        "\n",
        "    password = input(\"Enter the password: \")\n",
        "\n",
        "    while name != \"admin\" or password != \"123\":\n",
        "\n",
        "      print(\"Login successful\")\n",
        "\n"
      ],
      "metadata": {
        "id": "uhfIDPn7a2Hv"
      }
    },
    {
      "cell_type": "markdown",
      "source": [
        "## Practical Questions"
      ],
      "metadata": {
        "id": "srIAH8hg7byy"
      }
    },
    {
      "cell_type": "code",
      "source": [
        "#1. Write a python program to print \"Hello, World!\"\n",
        "print(\"Hello, World!\")"
      ],
      "metadata": {
        "id": "vY5vWhxf4opH",
        "colab": {
          "base_uri": "https://localhost:8080/"
        },
        "outputId": "b213de25-1bf7-4bdb-8856-fde0922defa3"
      },
      "execution_count": 1,
      "outputs": [
        {
          "output_type": "stream",
          "name": "stdout",
          "text": [
            "Hello, World!\n"
          ]
        }
      ]
    },
    {
      "cell_type": "code",
      "source": [
        "#2. Write a python program that displays your name and age.\n",
        "name=\"Aysha\"\n",
        "age=21\n",
        "print(\"Name:\", name)\n",
        "print(\"Age:\", age)"
      ],
      "metadata": {
        "id": "15B5cd3M45D1",
        "colab": {
          "base_uri": "https://localhost:8080/"
        },
        "outputId": "a1041881-01ac-481b-97dd-591474927496"
      },
      "execution_count": 3,
      "outputs": [
        {
          "output_type": "stream",
          "name": "stdout",
          "text": [
            "Name: Aysha\n",
            "Age: 21\n"
          ]
        }
      ]
    },
    {
      "cell_type": "code",
      "source": [
        "#3. Write code to print all the pre-defined keywords in python using the keyword library.\n",
        "help('keywords')"
      ],
      "metadata": {
        "id": "K_RO5yrG5CGH",
        "colab": {
          "base_uri": "https://localhost:8080/"
        },
        "outputId": "72039ea9-adb9-485f-e6f3-80790bb4e191"
      },
      "execution_count": 4,
      "outputs": [
        {
          "output_type": "stream",
          "name": "stdout",
          "text": [
            "\n",
            "Here is a list of the Python keywords.  Enter any keyword to get more help.\n",
            "\n",
            "False               class               from                or\n",
            "None                continue            global              pass\n",
            "True                def                 if                  raise\n",
            "and                 del                 import              return\n",
            "as                  elif                in                  try\n",
            "assert              else                is                  while\n",
            "async               except              lambda              with\n",
            "await               finally             nonlocal            yield\n",
            "break               for                 not                 \n",
            "\n"
          ]
        }
      ]
    },
    {
      "cell_type": "code",
      "source": [
        "#4. Write a program that checks if a given word is a python keyword.\n",
        "import keyword\n",
        "word = input(\"Enter a word: \")\n",
        "print(keyword.iskeyword(word))"
      ],
      "metadata": {
        "id": "A9uwiT9w5PrO",
        "colab": {
          "base_uri": "https://localhost:8080/"
        },
        "outputId": "29006b12-e0a7-4011-c729-1ef19e52bf3a"
      },
      "execution_count": 19,
      "outputs": [
        {
          "output_type": "stream",
          "name": "stdout",
          "text": [
            "Enter a word: for\n",
            "True\n"
          ]
        }
      ]
    },
    {
      "cell_type": "code",
      "source": [
        "#5. Create a list and tuple in python, and demonstrate how attempting to change an element works differently for each.\n",
        "#creating a list and tuple in python\n",
        "my_list=[1,2,3]\n",
        "my_tuple=(1,2,3)\n",
        "my_list[0]=10\n",
        "print(\"Updated list:\", my_list) #changes happen to list(mutable)\n",
        "my_tuple[0]=10\n",
        "print(\"Updated tuple:\", my_tuple) #changes cannot get reflect in tuple(immutable)"
      ],
      "metadata": {
        "id": "dHJKv6tV5XJu",
        "colab": {
          "base_uri": "https://localhost:8080/",
          "height": 211
        },
        "outputId": "cbe8709f-94c1-4673-b214-620445903156"
      },
      "execution_count": 12,
      "outputs": [
        {
          "output_type": "stream",
          "name": "stdout",
          "text": [
            "Updated list: [10, 2, 3]\n"
          ]
        },
        {
          "output_type": "error",
          "ename": "TypeError",
          "evalue": "'tuple' object does not support item assignment",
          "traceback": [
            "\u001b[0;31m---------------------------------------------------------------------------\u001b[0m",
            "\u001b[0;31mTypeError\u001b[0m                                 Traceback (most recent call last)",
            "\u001b[0;32m/tmp/ipython-input-12-11148364.py\u001b[0m in \u001b[0;36m<cell line: 0>\u001b[0;34m()\u001b[0m\n\u001b[1;32m      5\u001b[0m \u001b[0mmy_list\u001b[0m\u001b[0;34m[\u001b[0m\u001b[0;36m0\u001b[0m\u001b[0;34m]\u001b[0m\u001b[0;34m=\u001b[0m\u001b[0;36m10\u001b[0m\u001b[0;34m\u001b[0m\u001b[0;34m\u001b[0m\u001b[0m\n\u001b[1;32m      6\u001b[0m \u001b[0mprint\u001b[0m\u001b[0;34m(\u001b[0m\u001b[0;34m\"Updated list:\"\u001b[0m\u001b[0;34m,\u001b[0m \u001b[0mmy_list\u001b[0m\u001b[0;34m)\u001b[0m \u001b[0;31m#changes happen to list(mutable)\u001b[0m\u001b[0;34m\u001b[0m\u001b[0;34m\u001b[0m\u001b[0m\n\u001b[0;32m----> 7\u001b[0;31m \u001b[0mmy_tuple\u001b[0m\u001b[0;34m[\u001b[0m\u001b[0;36m0\u001b[0m\u001b[0;34m]\u001b[0m\u001b[0;34m=\u001b[0m\u001b[0;36m10\u001b[0m\u001b[0;34m\u001b[0m\u001b[0;34m\u001b[0m\u001b[0m\n\u001b[0m\u001b[1;32m      8\u001b[0m \u001b[0mprint\u001b[0m\u001b[0;34m(\u001b[0m\u001b[0;34m\"Updated tuple:\"\u001b[0m\u001b[0;34m,\u001b[0m \u001b[0mmy_tuple\u001b[0m\u001b[0;34m)\u001b[0m \u001b[0;31m#changes cannot get reflect in tuple(immutable)\u001b[0m\u001b[0;34m\u001b[0m\u001b[0;34m\u001b[0m\u001b[0m\n",
            "\u001b[0;31mTypeError\u001b[0m: 'tuple' object does not support item assignment"
          ]
        }
      ]
    },
    {
      "cell_type": "code",
      "source": [
        "#6. Write a function to demonstrate the behaviour of mutable and immutable arguments.\n",
        "def modify_list(list):\n",
        "  list[1]=5\n",
        "def modify_num(n):\n",
        "  n+=1\n",
        "my_list=[1,2,3]\n",
        "my_num=6\n",
        "modify_list(my_list)\n",
        "modify_num(my_num)\n",
        "print(\"Original list:[1,2,3]\")\n",
        "print(\"Modified list:\",my_list) #mutable as changes reflects in list\n",
        "print(\"Modified num:\",my_num) #immutable as changes happen inside function and not outside"
      ],
      "metadata": {
        "id": "x1D4PkHz5reI",
        "colab": {
          "base_uri": "https://localhost:8080/"
        },
        "outputId": "76f3f3bf-4ecd-455a-db80-9ba573df9804"
      },
      "execution_count": 11,
      "outputs": [
        {
          "output_type": "stream",
          "name": "stdout",
          "text": [
            "Original list:[1,2,3]\n",
            "Modified list: [1, 5, 3]\n",
            "Modified num: 6\n"
          ]
        }
      ]
    },
    {
      "cell_type": "code",
      "source": [
        "#7. Write a program that performs basic arithmetic operations on two user-input numbers.\n",
        "a=int(input(\"Enter the first number: \"))\n",
        "b=int(input(\"Enter the second number: \"))\n",
        "print(\"Sum:\", a+b)\n",
        "print(\"Difference:\", a-b)\n",
        "print(\"Product:\", a*b)\n",
        "print(\"Quotient\", a/b)"
      ],
      "metadata": {
        "id": "7dbl8IJv5z3s",
        "colab": {
          "base_uri": "https://localhost:8080/"
        },
        "outputId": "c62a5f5b-82bc-4a70-b57b-853d727eef45"
      },
      "execution_count": 20,
      "outputs": [
        {
          "output_type": "stream",
          "name": "stdout",
          "text": [
            "Enter the first number: 5\n",
            "Enter the second number: 2\n",
            "Sum: 7\n",
            "Difference: 3\n",
            "Product: 10\n",
            "Quotient 2.5\n"
          ]
        }
      ]
    },
    {
      "cell_type": "code",
      "source": [
        "#8. Write a program to demonstrate the use of logical operators.\n",
        "a=10\n",
        "b=5\n",
        "print(a>5 and b<10) #two conditions must be true\n",
        "print(a<5 or b>10) #atleast one condtion should be true\n",
        "print(not(a>5)) #returns reverse of condition"
      ],
      "metadata": {
        "id": "wBdPM3Gg59g8",
        "colab": {
          "base_uri": "https://localhost:8080/"
        },
        "outputId": "6c2eeadd-3fc7-4bd0-ea97-b7dcaaa3bc7d"
      },
      "execution_count": 8,
      "outputs": [
        {
          "output_type": "stream",
          "name": "stdout",
          "text": [
            "True\n",
            "False\n",
            "False\n"
          ]
        }
      ]
    },
    {
      "cell_type": "code",
      "source": [
        "#9. Write a python program to convert user input from string to integer, float, and boolean types.\n",
        "user_input=input(\"Enter the number:\")\n",
        "int_value=int(user_input)\n",
        "float_value=float(user_input)\n",
        "bool_value=bool(user_input)\n",
        "print(\"Integer value:\", int_value)\n",
        "print(\"Float_value:\", float_value)\n",
        "print(\"Boolean value:\", bool_value)"
      ],
      "metadata": {
        "id": "HYqdZKky6IA3",
        "colab": {
          "base_uri": "https://localhost:8080/"
        },
        "outputId": "58392d16-6278-43f4-c6ed-dd5399b11062"
      },
      "execution_count": 25,
      "outputs": [
        {
          "output_type": "stream",
          "name": "stdout",
          "text": [
            "Enter the number:7\n",
            "Integer value: 7\n",
            "Float_value: 7.0\n",
            "Boolean value: True\n"
          ]
        }
      ]
    },
    {
      "cell_type": "code",
      "source": [
        "#10. Write code to demonstrate type casting with list elements.\n",
        "string_list=['10','20','30']\n",
        "int_list=[]\n",
        "for item in string_list:  #goes through each item in string_list\n",
        "  int_list.append(int(item))\n",
        "print(\"Original list:\", string_list)\n",
        "print(\"Converted list(into integer):\", int_list)"
      ],
      "metadata": {
        "id": "BQORgl096Tiz",
        "colab": {
          "base_uri": "https://localhost:8080/"
        },
        "outputId": "5fcece10-b951-4a2c-dc77-ef03fd777c7c"
      },
      "execution_count": 5,
      "outputs": [
        {
          "output_type": "stream",
          "name": "stdout",
          "text": [
            "Original list: ['10', '20', '30']\n",
            "Converted list(into integer): [10, 20, 30]\n"
          ]
        }
      ]
    },
    {
      "cell_type": "code",
      "source": [
        "#11. Write a program that checks if a number is positive, negative, or zero.\n",
        "num=int(input(\"Enter the number:\"))\n",
        "if num>0:\n",
        "  print(\"Positive\")\n",
        "elif num<0:\n",
        "  print(\"Negative\")\n",
        "else:\n",
        "  print(\"Zero\")"
      ],
      "metadata": {
        "id": "KQcOVp756cWt",
        "colab": {
          "base_uri": "https://localhost:8080/"
        },
        "outputId": "74d0d687-259c-4ebf-d673-79dae833e239"
      },
      "execution_count": 7,
      "outputs": [
        {
          "output_type": "stream",
          "name": "stdout",
          "text": [
            "Enter the number:-8\n",
            "Negative\n"
          ]
        }
      ]
    },
    {
      "cell_type": "code",
      "source": [
        "#12. Write a for loop to print numbers from 1 to 10.\n",
        "for i in range(1,11):\n",
        "  print(i)"
      ],
      "metadata": {
        "id": "bS5TOgM86oSi",
        "colab": {
          "base_uri": "https://localhost:8080/"
        },
        "outputId": "c64ef954-bad8-4818-b258-28d1adafbe4b"
      },
      "execution_count": 5,
      "outputs": [
        {
          "output_type": "stream",
          "name": "stdout",
          "text": [
            "1\n",
            "2\n",
            "3\n",
            "4\n",
            "5\n",
            "6\n",
            "7\n",
            "8\n",
            "9\n",
            "10\n"
          ]
        }
      ]
    },
    {
      "cell_type": "code",
      "source": [
        "#13. Write a python program to find the sum of all even numbers between 1 and 50.\n",
        "sum_even=0\n",
        "for i in range(1,51):\n",
        "  if i%2==0:\n",
        "    sum_even+=i\n",
        "print(\"Sum of all even numbers between 1 and 50 is:\", sum_even)"
      ],
      "metadata": {
        "id": "e5EKf6ad6uuo",
        "colab": {
          "base_uri": "https://localhost:8080/"
        },
        "outputId": "1e8fc679-9ed5-423d-c964-2d60e0fb8813"
      },
      "execution_count": 4,
      "outputs": [
        {
          "output_type": "stream",
          "name": "stdout",
          "text": [
            "Sum of all even numbers between 1 and 50 is: 650\n"
          ]
        }
      ]
    },
    {
      "cell_type": "code",
      "source": [
        "#14. Write a program to reverse a string using a while loop.\n",
        "original_string=input(\"Enter the string:\")\n",
        "reverse_string=\"\"\n",
        "i=len(original_string)-1\n",
        "while i>=0:\n",
        "  reverse_string+=original_string[i]\n",
        "  i-=1\n",
        "print(\"Reversed string:\",reverse_string)"
      ],
      "metadata": {
        "id": "SBiYY-aP65dr",
        "colab": {
          "base_uri": "https://localhost:8080/"
        },
        "outputId": "21ac6c50-a99d-457a-9484-113a3c2c3ed4"
      },
      "execution_count": 17,
      "outputs": [
        {
          "output_type": "stream",
          "name": "stdout",
          "text": [
            "Enter the string:hello\n",
            "Reversed string: olleh\n"
          ]
        }
      ]
    },
    {
      "cell_type": "code",
      "source": [
        "#15. Write a python program to calculate the factorial of a number provided by the user using a while loop.\n",
        "num=int(input(\"Enter the number:\"))\n",
        "fact=1\n",
        "i=1\n",
        "while i<=num:\n",
        "  fact*=i\n",
        "  i+=1\n",
        "print(\"Factorial of\",num,\"is:\",fact)"
      ],
      "metadata": {
        "id": "YSxdIgou7ADO",
        "colab": {
          "base_uri": "https://localhost:8080/"
        },
        "outputId": "4d8e6f35-4e22-46fb-d773-2d43d8678bdd"
      },
      "execution_count": 5,
      "outputs": [
        {
          "output_type": "stream",
          "name": "stdout",
          "text": [
            "Enter the number:5\n",
            "Factorial of 5 is: 120\n"
          ]
        }
      ]
    }
  ]
}